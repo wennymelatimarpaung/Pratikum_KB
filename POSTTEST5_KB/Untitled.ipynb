{
 "cells": [
  {
   "cell_type": "markdown",
   "id": "59ffb77a-19a0-4f65-8113-fca79df7b49a",
   "metadata": {},
   "source": [
    "### POSTTEST 6"
   ]
  },
  {
   "cell_type": "code",
   "execution_count": 1,
   "id": "5e4c7915-d57f-4ffa-8138-df3f54eaca87",
   "metadata": {},
   "outputs": [],
   "source": [
    "import pandas as pd\n",
    "import seaborn as sns\n",
    "import matplotlib.pyplot as plt\n",
    "import numpy as np\n",
    "from sklearn.metrics import accuracy_score, confusion_matrix\n",
    "from sklearn.model_selection import train_test_split\n",
    "from sklearn.naive_bayes import GaussianNB\n",
    "from sklearn.preprocessing import StandardScaler\n",
    "from sklearn.neighbors import KNeighborsClassifier\n",
    "from sklearn.naive_bayes import GaussianNB\n",
    "from sklearn.svm import SVC\n",
    "from sklearn.metrics import confusion_matrix, ConfusionMatrixDisplay\n",
    "from sklearn.model_selection import GridSearchCV"
   ]
  },
  {
   "cell_type": "markdown",
   "id": "3be7ca49-812a-4e6c-a6ae-3b9ca8f7c135",
   "metadata": {},
   "source": [
    "### Read Data"
   ]
  },
  {
   "cell_type": "code",
   "execution_count": 2,
   "id": "6e611a1b-e1d2-4794-8000-8bf713a6e2e2",
   "metadata": {},
   "outputs": [],
   "source": [
    "data = pd.read_csv(\"gamesBersih.csv\")"
   ]
  },
  {
   "cell_type": "code",
   "execution_count": 3,
   "id": "28955780-e86c-4ac1-8b32-14915be92d15",
   "metadata": {},
   "outputs": [
    {
     "data": {
      "text/html": [
       "<div>\n",
       "<style scoped>\n",
       "    .dataframe tbody tr th:only-of-type {\n",
       "        vertical-align: middle;\n",
       "    }\n",
       "\n",
       "    .dataframe tbody tr th {\n",
       "        vertical-align: top;\n",
       "    }\n",
       "\n",
       "    .dataframe thead th {\n",
       "        text-align: right;\n",
       "    }\n",
       "</style>\n",
       "<table border=\"1\" class=\"dataframe\">\n",
       "  <thead>\n",
       "    <tr style=\"text-align: right;\">\n",
       "      <th></th>\n",
       "      <th>Unnamed: 0</th>\n",
       "      <th>id</th>\n",
       "      <th>rated</th>\n",
       "      <th>created_at</th>\n",
       "      <th>last_move_at</th>\n",
       "      <th>turns</th>\n",
       "      <th>victory_status</th>\n",
       "      <th>winner</th>\n",
       "      <th>increment_code</th>\n",
       "      <th>white_id</th>\n",
       "      <th>white_rating</th>\n",
       "      <th>black_id</th>\n",
       "      <th>black_rating</th>\n",
       "      <th>moves</th>\n",
       "      <th>opening_eco</th>\n",
       "      <th>opening_name</th>\n",
       "      <th>opening_ply</th>\n",
       "      <th>black</th>\n",
       "      <th>draw</th>\n",
       "      <th>white</th>\n",
       "    </tr>\n",
       "  </thead>\n",
       "  <tbody>\n",
       "    <tr>\n",
       "      <th>0</th>\n",
       "      <td>0</td>\n",
       "      <td>TZJHLljE</td>\n",
       "      <td>False</td>\n",
       "      <td>1.504210e+12</td>\n",
       "      <td>1.504210e+12</td>\n",
       "      <td>13</td>\n",
       "      <td>outoftime</td>\n",
       "      <td>white</td>\n",
       "      <td>15+2</td>\n",
       "      <td>bourgris</td>\n",
       "      <td>1500</td>\n",
       "      <td>a-00</td>\n",
       "      <td>1191</td>\n",
       "      <td>d4 d5 c4 c6 cxd5 e6 dxe6 fxe6 Nf3 Bb4+ Nc3 Ba5...</td>\n",
       "      <td>D10</td>\n",
       "      <td>Slav Defense: Exchange Variation</td>\n",
       "      <td>5</td>\n",
       "      <td>0.0</td>\n",
       "      <td>0.0</td>\n",
       "      <td>1.0</td>\n",
       "    </tr>\n",
       "    <tr>\n",
       "      <th>1</th>\n",
       "      <td>1</td>\n",
       "      <td>l1NXvwaE</td>\n",
       "      <td>True</td>\n",
       "      <td>1.504130e+12</td>\n",
       "      <td>1.504130e+12</td>\n",
       "      <td>16</td>\n",
       "      <td>resign</td>\n",
       "      <td>black</td>\n",
       "      <td>5+10</td>\n",
       "      <td>a-00</td>\n",
       "      <td>1322</td>\n",
       "      <td>skinnerua</td>\n",
       "      <td>1261</td>\n",
       "      <td>d4 Nc6 e4 e5 f4 f6 dxe5 fxe5 fxe5 Nxe5 Qd4 Nc6...</td>\n",
       "      <td>B00</td>\n",
       "      <td>Nimzowitsch Defense: Kennedy Variation</td>\n",
       "      <td>4</td>\n",
       "      <td>1.0</td>\n",
       "      <td>0.0</td>\n",
       "      <td>0.0</td>\n",
       "    </tr>\n",
       "    <tr>\n",
       "      <th>2</th>\n",
       "      <td>2</td>\n",
       "      <td>mIICvQHh</td>\n",
       "      <td>True</td>\n",
       "      <td>1.504130e+12</td>\n",
       "      <td>1.504130e+12</td>\n",
       "      <td>61</td>\n",
       "      <td>mate</td>\n",
       "      <td>white</td>\n",
       "      <td>5+10</td>\n",
       "      <td>ischia</td>\n",
       "      <td>1496</td>\n",
       "      <td>a-00</td>\n",
       "      <td>1500</td>\n",
       "      <td>e4 e5 d3 d6 Be3 c6 Be2 b5 Nd2 a5 a4 c5 axb5 Nc...</td>\n",
       "      <td>C20</td>\n",
       "      <td>King's Pawn Game: Leonardis Variation</td>\n",
       "      <td>3</td>\n",
       "      <td>0.0</td>\n",
       "      <td>0.0</td>\n",
       "      <td>1.0</td>\n",
       "    </tr>\n",
       "    <tr>\n",
       "      <th>3</th>\n",
       "      <td>3</td>\n",
       "      <td>kWKvrqYL</td>\n",
       "      <td>True</td>\n",
       "      <td>1.504110e+12</td>\n",
       "      <td>1.504110e+12</td>\n",
       "      <td>61</td>\n",
       "      <td>mate</td>\n",
       "      <td>white</td>\n",
       "      <td>20+0</td>\n",
       "      <td>daniamurashov</td>\n",
       "      <td>1439</td>\n",
       "      <td>adivanov2009</td>\n",
       "      <td>1454</td>\n",
       "      <td>d4 d5 Nf3 Bf5 Nc3 Nf6 Bf4 Ng4 e3 Nc6 Be2 Qd7 O...</td>\n",
       "      <td>D02</td>\n",
       "      <td>Queen's Pawn Game: Zukertort Variation</td>\n",
       "      <td>3</td>\n",
       "      <td>0.0</td>\n",
       "      <td>0.0</td>\n",
       "      <td>1.0</td>\n",
       "    </tr>\n",
       "    <tr>\n",
       "      <th>4</th>\n",
       "      <td>4</td>\n",
       "      <td>9tXo1AUZ</td>\n",
       "      <td>True</td>\n",
       "      <td>1.504030e+12</td>\n",
       "      <td>1.504030e+12</td>\n",
       "      <td>95</td>\n",
       "      <td>mate</td>\n",
       "      <td>white</td>\n",
       "      <td>30+3</td>\n",
       "      <td>nik221107</td>\n",
       "      <td>1523</td>\n",
       "      <td>adivanov2009</td>\n",
       "      <td>1469</td>\n",
       "      <td>e4 e5 Nf3 d6 d4 Nc6 d5 Nb4 a3 Na6 Nc3 Be7 b4 N...</td>\n",
       "      <td>C41</td>\n",
       "      <td>Philidor Defense</td>\n",
       "      <td>5</td>\n",
       "      <td>0.0</td>\n",
       "      <td>0.0</td>\n",
       "      <td>1.0</td>\n",
       "    </tr>\n",
       "  </tbody>\n",
       "</table>\n",
       "</div>"
      ],
      "text/plain": [
       "   Unnamed: 0        id  rated    created_at  last_move_at  turns  \\\n",
       "0           0  TZJHLljE  False  1.504210e+12  1.504210e+12     13   \n",
       "1           1  l1NXvwaE   True  1.504130e+12  1.504130e+12     16   \n",
       "2           2  mIICvQHh   True  1.504130e+12  1.504130e+12     61   \n",
       "3           3  kWKvrqYL   True  1.504110e+12  1.504110e+12     61   \n",
       "4           4  9tXo1AUZ   True  1.504030e+12  1.504030e+12     95   \n",
       "\n",
       "  victory_status winner increment_code       white_id  white_rating  \\\n",
       "0      outoftime  white           15+2       bourgris          1500   \n",
       "1         resign  black           5+10           a-00          1322   \n",
       "2           mate  white           5+10         ischia          1496   \n",
       "3           mate  white           20+0  daniamurashov          1439   \n",
       "4           mate  white           30+3      nik221107          1523   \n",
       "\n",
       "       black_id  black_rating  \\\n",
       "0          a-00          1191   \n",
       "1     skinnerua          1261   \n",
       "2          a-00          1500   \n",
       "3  adivanov2009          1454   \n",
       "4  adivanov2009          1469   \n",
       "\n",
       "                                               moves opening_eco  \\\n",
       "0  d4 d5 c4 c6 cxd5 e6 dxe6 fxe6 Nf3 Bb4+ Nc3 Ba5...         D10   \n",
       "1  d4 Nc6 e4 e5 f4 f6 dxe5 fxe5 fxe5 Nxe5 Qd4 Nc6...         B00   \n",
       "2  e4 e5 d3 d6 Be3 c6 Be2 b5 Nd2 a5 a4 c5 axb5 Nc...         C20   \n",
       "3  d4 d5 Nf3 Bf5 Nc3 Nf6 Bf4 Ng4 e3 Nc6 Be2 Qd7 O...         D02   \n",
       "4  e4 e5 Nf3 d6 d4 Nc6 d5 Nb4 a3 Na6 Nc3 Be7 b4 N...         C41   \n",
       "\n",
       "                             opening_name  opening_ply  black  draw  white  \n",
       "0        Slav Defense: Exchange Variation            5    0.0   0.0    1.0  \n",
       "1  Nimzowitsch Defense: Kennedy Variation            4    1.0   0.0    0.0  \n",
       "2   King's Pawn Game: Leonardis Variation            3    0.0   0.0    1.0  \n",
       "3  Queen's Pawn Game: Zukertort Variation            3    0.0   0.0    1.0  \n",
       "4                        Philidor Defense            5    0.0   0.0    1.0  "
      ]
     },
     "execution_count": 3,
     "metadata": {},
     "output_type": "execute_result"
    }
   ],
   "source": [
    "data.head()"
   ]
  },
  {
   "cell_type": "code",
   "execution_count": 4,
   "id": "836d80fd-8ee2-461f-9df4-52ce8962cbc4",
   "metadata": {},
   "outputs": [
    {
     "name": "stdout",
     "output_type": "stream",
     "text": [
      "<class 'pandas.core.frame.DataFrame'>\n",
      "RangeIndex: 19629 entries, 0 to 19628\n",
      "Data columns (total 20 columns):\n",
      " #   Column          Non-Null Count  Dtype  \n",
      "---  ------          --------------  -----  \n",
      " 0   Unnamed: 0      19629 non-null  int64  \n",
      " 1   id              19629 non-null  object \n",
      " 2   rated           19629 non-null  bool   \n",
      " 3   created_at      19629 non-null  float64\n",
      " 4   last_move_at    19629 non-null  float64\n",
      " 5   turns           19629 non-null  int64  \n",
      " 6   victory_status  19629 non-null  object \n",
      " 7   winner          19629 non-null  object \n",
      " 8   increment_code  19629 non-null  object \n",
      " 9   white_id        19629 non-null  object \n",
      " 10  white_rating    19629 non-null  int64  \n",
      " 11  black_id        19629 non-null  object \n",
      " 12  black_rating    19629 non-null  int64  \n",
      " 13  moves           19629 non-null  object \n",
      " 14  opening_eco     19629 non-null  object \n",
      " 15  opening_name    19629 non-null  object \n",
      " 16  opening_ply     19629 non-null  int64  \n",
      " 17  black           19219 non-null  float64\n",
      " 18  draw            19219 non-null  float64\n",
      " 19  white           19219 non-null  float64\n",
      "dtypes: bool(1), float64(5), int64(5), object(9)\n",
      "memory usage: 2.9+ MB\n"
     ]
    }
   ],
   "source": [
    "data.info()\n"
   ]
  },
  {
   "cell_type": "markdown",
   "id": "39f2211e-f7d6-453b-84d0-1621b568133c",
   "metadata": {},
   "source": [
    "### Data Split"
   ]
  },
  {
   "cell_type": "code",
   "execution_count": 9,
   "id": "c2e7218a-0bca-4cc8-b725-8cc7277fd155",
   "metadata": {},
   "outputs": [],
   "source": [
    "X = data[['white_rating','black_rating']]\n",
    "y = data[['winner']]\n"
   ]
  },
  {
   "cell_type": "code",
   "execution_count": 10,
   "id": "85d59a94-8b0f-444b-a706-ff5bb599f01d",
   "metadata": {},
   "outputs": [],
   "source": [
    "X_train, X_test, y_train, y_test = train_test_split(X,y,test_size=0.3)"
   ]
  },
  {
   "cell_type": "markdown",
   "id": "d1784a89-fde5-4f1c-9776-3ceed1b681e3",
   "metadata": {},
   "source": [
    "### Data Normalisasi"
   ]
  },
  {
   "cell_type": "code",
   "execution_count": 11,
   "id": "aa991783-76d9-4086-b58b-c7dc947f01a3",
   "metadata": {},
   "outputs": [],
   "source": [
    "ss = StandardScaler()\n",
    "X_train_std = ss.fit_transform(X_train)\n",
    "X_test_std = ss.transform(X_test)"
   ]
  },
  {
   "cell_type": "markdown",
   "id": "d035cbf9-1c07-40f0-9bb1-aa777bac495b",
   "metadata": {},
   "source": [
    "### Algoritma KNN"
   ]
  },
  {
   "cell_type": "code",
   "execution_count": 12,
   "id": "af481080-106b-4bca-9b6a-bd359f51d3c8",
   "metadata": {},
   "outputs": [
    {
     "name": "stderr",
     "output_type": "stream",
     "text": [
      "C:\\Users\\LENOVO\\AppData\\Local\\Programs\\Python\\Python310\\lib\\site-packages\\sklearn\\neighbors\\_classification.py:207: DataConversionWarning: A column-vector y was passed when a 1d array was expected. Please change the shape of y to (n_samples,), for example using ravel().\n",
      "  return self._fit(X, y)\n"
     ]
    },
    {
     "name": "stdout",
     "output_type": "stream",
     "text": [
      "Akurasi algoritma KNN : 0.58\n"
     ]
    }
   ],
   "source": [
    "modelKnn = KNeighborsClassifier()\n",
    "modelKnn.fit(X_train_std,y_train)\n",
    "\n",
    "knn_pred = modelKnn.predict(X_test_std)\n",
    "akurasi_KNN = accuracy_score(y_test, knn_pred)\n",
    "print(\"Akurasi algoritma KNN :\", round(akurasi_KNN,2))\n"
   ]
  },
  {
   "cell_type": "markdown",
   "id": "3b776fe4-f89d-414c-90a3-2aec4ac778e9",
   "metadata": {},
   "source": [
    "### Algoritma Naive Bayes"
   ]
  },
  {
   "cell_type": "code",
   "execution_count": 14,
   "id": "4d95f1ef-211e-47ad-96e0-b1f834cdf8d3",
   "metadata": {},
   "outputs": [
    {
     "name": "stdout",
     "output_type": "stream",
     "text": [
      "Akurasi algoritma Naive Bayes : 0.6\n"
     ]
    },
    {
     "name": "stderr",
     "output_type": "stream",
     "text": [
      "C:\\Users\\LENOVO\\AppData\\Local\\Programs\\Python\\Python310\\lib\\site-packages\\sklearn\\utils\\validation.py:1111: DataConversionWarning: A column-vector y was passed when a 1d array was expected. Please change the shape of y to (n_samples, ), for example using ravel().\n",
      "  y = column_or_1d(y, warn=True)\n"
     ]
    }
   ],
   "source": [
    "gaussnb  = GaussianNB()\n",
    "gaussnb.fit(X_train_std,y_train)\n",
    "\n",
    "gaussnb_pred = gaussnb.predict(X_test_std)\n",
    "akurasi_gnb = accuracy_score(y_test, gaussnb_pred)\n",
    "print(\"Akurasi algoritma Naive Bayes :\", round(akurasi_gnb,2))"
   ]
  },
  {
   "cell_type": "markdown",
   "id": "0a6ed0c2-4273-46f5-b760-9f5d7dd56199",
   "metadata": {},
   "source": [
    "### Algoritma SVM"
   ]
  },
  {
   "cell_type": "code",
   "execution_count": 23,
   "id": "65a454c6-4930-4bc9-92b6-ea7e48c3b1f5",
   "metadata": {},
   "outputs": [
    {
     "name": "stderr",
     "output_type": "stream",
     "text": [
      "C:\\Users\\LENOVO\\AppData\\Local\\Programs\\Python\\Python310\\lib\\site-packages\\sklearn\\utils\\validation.py:1111: DataConversionWarning: A column-vector y was passed when a 1d array was expected. Please change the shape of y to (n_samples, ), for example using ravel().\n",
      "  y = column_or_1d(y, warn=True)\n"
     ]
    },
    {
     "name": "stdout",
     "output_type": "stream",
     "text": [
      "Akurasi algoritma SVC : 0.61\n"
     ]
    }
   ],
   "source": [
    "svm = SVC()\n",
    "svm.fit(X_train_std,y_train)\n",
    "\n",
    "svm_pred = svm.predict(X_test_std)\n",
    "akurasi_svm = accuracy_score(y_test, svm_pred)\n",
    "print(\"Akurasi algoritma SVC :\", round(akurasi_svm,2))"
   ]
  },
  {
   "cell_type": "markdown",
   "id": "a5d99c23-2a6f-4de4-8ae1-cc7b85594c05",
   "metadata": {},
   "source": [
    "### Perbandingan Akurasi Setiap Algoritma"
   ]
  },
  {
   "cell_type": "code",
   "execution_count": 24,
   "id": "549c3901-266c-4bf6-b324-68f0f848870e",
   "metadata": {},
   "outputs": [
    {
     "data": {
      "image/png": "[encoded data removed]",
      "text/plain": [
       "<Figure size 1000x1000 with 1 Axes>"
      ]
     },
     "metadata": {},
     "output_type": "display_data"
    }
   ],
   "source": [
    "algoritma = [\"KNN\",\"NaiveBayes\",\"SVM\"]\n",
    "akurasi = [akurasi_KNN,akurasi_gnb,akurasi_svm]\n",
    "\n",
    "plt.figure(figsize=(10,10))\n",
    "\n",
    "sns.barplot(x= algoritma,y = akurasi,palette='rocket')\n",
    "\n",
    "plt.title(\"Perbandingan Akurasi Algoritma\")\n",
    "plt.ylabel(\"Akurasi (%)\")\n",
    "plt.xlabel(\"Algoritma\")\n",
    "plt.show()"
   ]
  },
  {
   "cell_type": "markdown",
   "id": "cb0f2799-9495-4c5d-b1e4-c00436dc5359",
   "metadata": {},
   "source": [
    "### Confusion Matrix"
   ]
  },
  {
   "cell_type": "code",
   "execution_count": 21,
   "id": "50fbb755-6546-4cda-b73a-ced87b355127",
   "metadata": {},
   "outputs": [
    {
     "name": "stderr",
     "output_type": "stream",
     "text": [
      "C:\\Users\\LENOVO\\AppData\\Local\\Programs\\Python\\Python310\\lib\\site-packages\\sklearn\\neighbors\\_classification.py:207: DataConversionWarning: A column-vector y was passed when a 1d array was expected. Please change the shape of y to (n_samples,), for example using ravel().\n",
      "  return self._fit(X, y)\n"
     ]
    },
    {
     "name": "stdout",
     "output_type": "stream",
     "text": [
      "Confusion matrix : \n",
      "\n",
      " [[1627   25 1023]\n",
      " [ 151    5  122]\n",
      " [1102   27 1807]]\n"
     ]
    },
    {
     "data": {
      "image/png": "[encoded data removed]",
      "text/plain": [
       "<Figure size 640x480 with 2 Axes>"
      ]
     },
     "metadata": {},
     "output_type": "display_data"
    }
   ],
   "source": [
    "knn = KNeighborsClassifier()\n",
    "knn.fit(X_train,y_train)\n",
    "\n",
    "knn_pred = knn.predict(X_test)\n",
    "\n",
    "cm = confusion_matrix(y_test, knn_pred)\n",
    "print('Confusion matrix : \\n\\n', cm)\n",
    "\n",
    "displays = ConfusionMatrixDisplay(confusion_matrix=cm,display_labels=knn.classes_)\n",
    "displays.plot()\n",
    "\n",
    "plt.title(\"Confusion Matrix KNN\")\n",
    "plt.grid(False)"
   ]
  },
  {
   "cell_type": "markdown",
   "id": "029e3ece-f39f-48bb-998a-b70b57423d05",
   "metadata": {},
   "source": [
    "### Hyperparameter Tuning (KNN)"
   ]
  },
  {
   "cell_type": "code",
   "execution_count": 17,
   "id": "b95c54c7-d0cb-464c-b89f-1506382c5c73",
   "metadata": {},
   "outputs": [
    {
     "name": "stderr",
     "output_type": "stream",
     "text": [
      "C:\\Users\\LENOVO\\AppData\\Local\\Programs\\Python\\Python310\\lib\\site-packages\\sklearn\\model_selection\\_validation.py:378: FitFailedWarning: \n",
      "3 fits failed out of a total of 15.\n",
      "The score on these train-test partitions for these parameters will be set to nan.\n",
      "If these failures are not expected, you can try to debug them by setting error_score='raise'.\n",
      "\n",
      "Below are more details about the failures:\n",
      "--------------------------------------------------------------------------------\n",
      "3 fits failed with the following error:\n",
      "Traceback (most recent call last):\n",
      "  File \"C:\\Users\\LENOVO\\AppData\\Local\\Programs\\Python\\Python310\\lib\\site-packages\\sklearn\\model_selection\\_validation.py\", line 686, in _fit_and_score\n",
      "    estimator.fit(X_train, y_train, **fit_params)\n",
      "  File \"C:\\Users\\LENOVO\\AppData\\Local\\Programs\\Python\\Python310\\lib\\site-packages\\sklearn\\neighbors\\_classification.py\", line 207, in fit\n",
      "    return self._fit(X, y)\n",
      "  File \"C:\\Users\\LENOVO\\AppData\\Local\\Programs\\Python\\Python310\\lib\\site-packages\\sklearn\\neighbors\\_base.py\", line 603, in _fit\n",
      "    raise ValueError(\"Expected n_neighbors > 0. Got %d\" % self.n_neighbors)\n",
      "ValueError: Expected n_neighbors > 0. Got 0\n",
      "\n",
      "  warnings.warn(some_fits_failed_message, FitFailedWarning)\n",
      "C:\\Users\\LENOVO\\AppData\\Local\\Programs\\Python\\Python310\\lib\\site-packages\\sklearn\\model_selection\\_search.py:953: UserWarning: One or more of the test scores are non-finite: [       nan 0.54672489 0.53464338 0.56892285 0.56673945]\n",
      "  warnings.warn(\n",
      "C:\\Users\\LENOVO\\AppData\\Local\\Programs\\Python\\Python310\\lib\\site-packages\\sklearn\\neighbors\\_classification.py:207: DataConversionWarning: A column-vector y was passed when a 1d array was expected. Please change the shape of y to (n_samples,), for example using ravel().\n",
      "  return self._fit(X, y)\n"
     ]
    }
   ],
   "source": [
    "modelKNN = KNeighborsClassifier()\n",
    "\n",
    "param_grid = { \"n_neighbors\" :[i for i in range(0,5)]}\n",
    "\n",
    "gsv = GridSearchCV(estimator=modelKNN, param_grid=param_grid, scoring='accuracy', cv=3, n_jobs=-1)\n",
    "\n",
    "gs = gsv.fit(X_train, y_train)"
   ]
  },
  {
   "cell_type": "code",
   "execution_count": 18,
   "id": "f2c183f0-1c54-41a0-b253-ebf516a5dd46",
   "metadata": {},
   "outputs": [
    {
     "name": "stdout",
     "output_type": "stream",
     "text": [
      "{'n_neighbors': 3}\n"
     ]
    }
   ],
   "source": [
    "print(gs.best_params_)"
   ]
  },
  {
   "cell_type": "code",
   "execution_count": 19,
   "id": "1b6eb6d0-6c9c-4e83-8897-a187c2eafee6",
   "metadata": {},
   "outputs": [
    {
     "name": "stdout",
     "output_type": "stream",
     "text": [
      "Akurasi Training Set :  75.8 %\n"
     ]
    }
   ],
   "source": [
    "print(\"Akurasi Training Set : \",round(gs.score(X_train,y_train)*100,1),\"%\")"
   ]
  },
  {
   "cell_type": "code",
   "execution_count": 26,
   "id": "7f976bce-0c43-40d5-83aa-d32b83045db5",
   "metadata": {},
   "outputs": [],
   "source": [
    "data.to_csv(\"gamesSupervised.csv\")"
   ]
  },
  {
   "cell_type": "code",
   "execution_count": null,
   "id": "86fb2987-61c1-406a-8f48-153d31aecad4",
   "metadata": {},
   "outputs": [],
   "source": []
  }
 ],
 "metadata": {
  "kernelspec": {
   "display_name": "Python 3 (ipykernel)",
   "language": "python",
   "name": "python3"
  },
  "language_info": {
   "codemirror_mode": {
    "name": "ipython",
    "version": 3
   },
   "file_extension": ".py",
   "mimetype": "text/x-python",
   "name": "python",
   "nbconvert_exporter": "python",
   "pygments_lexer": "ipython3",
   "version": "3.10.7"
  }
 },
 "nbformat": 4,
 "nbformat_minor": 5
}
