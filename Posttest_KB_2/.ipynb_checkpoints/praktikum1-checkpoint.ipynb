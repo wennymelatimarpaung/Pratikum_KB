{
 "cells": [
  {
   "cell_type": "markdown",
   "metadata": {},
   "source": [
    "# Posttest 1 Script\n"
   ]
  },
  {
   "cell_type": "markdown",
   "metadata": {
    "tags": []
   },
   "source": [
    "### Import Packaage"
   ]
  },
  {
   "cell_type": "code",
   "execution_count": 20,
   "metadata": {},
   "outputs": [],
   "source": [
    "import pandas as pd"
   ]
  },
  {
   "cell_type": "code",
   "execution_count": 21,
   "metadata": {},
   "outputs": [],
   "source": [
    "df = pd.read_csv(\"Starbucks_Locations_Worldwide.csv\")"
   ]
  },
  {
   "cell_type": "markdown",
   "metadata": {},
   "source": [
    "### Membaca Dataset"
   ]
  },
  {
   "cell_type": "code",
   "execution_count": 22,
   "metadata": {},
   "outputs": [
    {
     "data": {
      "text/html": [
       "<div>\n",
       "<style scoped>\n",
       "    .dataframe tbody tr th:only-of-type {\n",
       "        vertical-align: middle;\n",
       "    }\n",
       "\n",
       "    .dataframe tbody tr th {\n",
       "        vertical-align: top;\n",
       "    }\n",
       "\n",
       "    .dataframe thead th {\n",
       "        text-align: right;\n",
       "    }\n",
       "</style>\n",
       "<table border=\"1\" class=\"dataframe\">\n",
       "  <thead>\n",
       "    <tr style=\"text-align: right;\">\n",
       "      <th></th>\n",
       "      <th>Brand</th>\n",
       "      <th>Store Number</th>\n",
       "      <th>Store Name</th>\n",
       "      <th>Ownership Type</th>\n",
       "      <th>Street Address</th>\n",
       "      <th>City</th>\n",
       "      <th>State/Province</th>\n",
       "      <th>Country</th>\n",
       "      <th>Postcode</th>\n",
       "      <th>Phone Number</th>\n",
       "      <th>Timezone</th>\n",
       "      <th>Longitude</th>\n",
       "      <th>Latitude</th>\n",
       "    </tr>\n",
       "  </thead>\n",
       "  <tbody>\n",
       "    <tr>\n",
       "      <th>0</th>\n",
       "      <td>Starbucks</td>\n",
       "      <td>47370-257954</td>\n",
       "      <td>Meritxell, 96</td>\n",
       "      <td>Licensed</td>\n",
       "      <td>Av. Meritxell, 96</td>\n",
       "      <td>Andorra la Vella</td>\n",
       "      <td>7</td>\n",
       "      <td>AD</td>\n",
       "      <td>AD500</td>\n",
       "      <td>376818720</td>\n",
       "      <td>GMT+1:00 Europe/Andorra</td>\n",
       "      <td>1.53</td>\n",
       "      <td>42.51</td>\n",
       "    </tr>\n",
       "    <tr>\n",
       "      <th>1</th>\n",
       "      <td>Starbucks</td>\n",
       "      <td>22331-212325</td>\n",
       "      <td>Ajman Drive Thru</td>\n",
       "      <td>Licensed</td>\n",
       "      <td>1 Street 69, Al Jarf</td>\n",
       "      <td>Ajman</td>\n",
       "      <td>AJ</td>\n",
       "      <td>AE</td>\n",
       "      <td>NaN</td>\n",
       "      <td>NaN</td>\n",
       "      <td>GMT+04:00 Asia/Dubai</td>\n",
       "      <td>55.47</td>\n",
       "      <td>25.42</td>\n",
       "    </tr>\n",
       "    <tr>\n",
       "      <th>2</th>\n",
       "      <td>Starbucks</td>\n",
       "      <td>47089-256771</td>\n",
       "      <td>Dana Mall</td>\n",
       "      <td>Licensed</td>\n",
       "      <td>Sheikh Khalifa Bin Zayed St.</td>\n",
       "      <td>Ajman</td>\n",
       "      <td>AJ</td>\n",
       "      <td>AE</td>\n",
       "      <td>NaN</td>\n",
       "      <td>NaN</td>\n",
       "      <td>GMT+04:00 Asia/Dubai</td>\n",
       "      <td>55.47</td>\n",
       "      <td>25.39</td>\n",
       "    </tr>\n",
       "    <tr>\n",
       "      <th>3</th>\n",
       "      <td>Starbucks</td>\n",
       "      <td>22126-218024</td>\n",
       "      <td>Twofour 54</td>\n",
       "      <td>Licensed</td>\n",
       "      <td>Al Salam Street</td>\n",
       "      <td>Abu Dhabi</td>\n",
       "      <td>AZ</td>\n",
       "      <td>AE</td>\n",
       "      <td>NaN</td>\n",
       "      <td>NaN</td>\n",
       "      <td>GMT+04:00 Asia/Dubai</td>\n",
       "      <td>54.38</td>\n",
       "      <td>24.48</td>\n",
       "    </tr>\n",
       "    <tr>\n",
       "      <th>4</th>\n",
       "      <td>Starbucks</td>\n",
       "      <td>17127-178586</td>\n",
       "      <td>Al Ain Tower</td>\n",
       "      <td>Licensed</td>\n",
       "      <td>Khaldiya Area, Abu Dhabi Island</td>\n",
       "      <td>Abu Dhabi</td>\n",
       "      <td>AZ</td>\n",
       "      <td>AE</td>\n",
       "      <td>NaN</td>\n",
       "      <td>NaN</td>\n",
       "      <td>GMT+04:00 Asia/Dubai</td>\n",
       "      <td>54.54</td>\n",
       "      <td>24.51</td>\n",
       "    </tr>\n",
       "    <tr>\n",
       "      <th>...</th>\n",
       "      <td>...</td>\n",
       "      <td>...</td>\n",
       "      <td>...</td>\n",
       "      <td>...</td>\n",
       "      <td>...</td>\n",
       "      <td>...</td>\n",
       "      <td>...</td>\n",
       "      <td>...</td>\n",
       "      <td>...</td>\n",
       "      <td>...</td>\n",
       "      <td>...</td>\n",
       "      <td>...</td>\n",
       "      <td>...</td>\n",
       "    </tr>\n",
       "    <tr>\n",
       "      <th>1996</th>\n",
       "      <td>Starbucks</td>\n",
       "      <td>26153-218404</td>\n",
       "      <td>Plaza Trebol Concepcion</td>\n",
       "      <td>Licensed</td>\n",
       "      <td>Av. José Pedro Alessandri 3177,, Local FC-205,...</td>\n",
       "      <td>Concepcion</td>\n",
       "      <td>BI</td>\n",
       "      <td>CL</td>\n",
       "      <td>4260000</td>\n",
       "      <td>NaN</td>\n",
       "      <td>GMT-04:00 America/Santiago</td>\n",
       "      <td>-73.07</td>\n",
       "      <td>-36.79</td>\n",
       "    </tr>\n",
       "    <tr>\n",
       "      <th>1997</th>\n",
       "      <td>Starbucks</td>\n",
       "      <td>26101-228785</td>\n",
       "      <td>Mall del Centro</td>\n",
       "      <td>Licensed</td>\n",
       "      <td>Av. Barros Arana 1068, Local 12</td>\n",
       "      <td>Concepcion</td>\n",
       "      <td>BI</td>\n",
       "      <td>CL</td>\n",
       "      <td>NaN</td>\n",
       "      <td>NaN</td>\n",
       "      <td>GMT-04:00 America/Santiago</td>\n",
       "      <td>-73.04</td>\n",
       "      <td>-36.82</td>\n",
       "    </tr>\n",
       "    <tr>\n",
       "      <th>1998</th>\n",
       "      <td>Starbucks</td>\n",
       "      <td>29146-252586</td>\n",
       "      <td>Los Carrera Poniente N° 301</td>\n",
       "      <td>Licensed</td>\n",
       "      <td>Los Carrera Poniente N° 301, Local BE-102</td>\n",
       "      <td>Concepcion</td>\n",
       "      <td>BI</td>\n",
       "      <td>CL</td>\n",
       "      <td>NaN</td>\n",
       "      <td>NaN</td>\n",
       "      <td>GMT-04:00 America/Santiago</td>\n",
       "      <td>-73.06</td>\n",
       "      <td>-36.83</td>\n",
       "    </tr>\n",
       "    <tr>\n",
       "      <th>1999</th>\n",
       "      <td>Starbucks</td>\n",
       "      <td>21500-212044</td>\n",
       "      <td>Rancagua Centro</td>\n",
       "      <td>Licensed</td>\n",
       "      <td>Jose Bernardo Cuevas 405, Local 1070,, Rancagua</td>\n",
       "      <td>Rancagua</td>\n",
       "      <td>LI</td>\n",
       "      <td>CL</td>\n",
       "      <td>NaN</td>\n",
       "      <td>NaN</td>\n",
       "      <td>GMT-04:00 America/Santiago</td>\n",
       "      <td>-70.74</td>\n",
       "      <td>-34.17</td>\n",
       "    </tr>\n",
       "    <tr>\n",
       "      <th>2000</th>\n",
       "      <td>Starbucks</td>\n",
       "      <td>28956-250427</td>\n",
       "      <td>Sanatorio Aleman</td>\n",
       "      <td>Licensed</td>\n",
       "      <td>Pedro de Valdivia 801</td>\n",
       "      <td>Concepcion</td>\n",
       "      <td>RM</td>\n",
       "      <td>CL</td>\n",
       "      <td>NaN</td>\n",
       "      <td>NaN</td>\n",
       "      <td>GMT-04:00 America/Santiago</td>\n",
       "      <td>-73.05</td>\n",
       "      <td>-36.84</td>\n",
       "    </tr>\n",
       "  </tbody>\n",
       "</table>\n",
       "<p>2001 rows × 13 columns</p>\n",
       "</div>"
      ],
      "text/plain": [
       "          Brand  Store Number                   Store Name Ownership Type  \\\n",
       "0     Starbucks  47370-257954                Meritxell, 96       Licensed   \n",
       "1     Starbucks  22331-212325             Ajman Drive Thru       Licensed   \n",
       "2     Starbucks  47089-256771                    Dana Mall       Licensed   \n",
       "3     Starbucks  22126-218024                   Twofour 54       Licensed   \n",
       "4     Starbucks  17127-178586                 Al Ain Tower       Licensed   \n",
       "...         ...           ...                          ...            ...   \n",
       "1996  Starbucks  26153-218404      Plaza Trebol Concepcion       Licensed   \n",
       "1997  Starbucks  26101-228785              Mall del Centro       Licensed   \n",
       "1998  Starbucks  29146-252586  Los Carrera Poniente N° 301       Licensed   \n",
       "1999  Starbucks  21500-212044              Rancagua Centro       Licensed   \n",
       "2000  Starbucks  28956-250427             Sanatorio Aleman       Licensed   \n",
       "\n",
       "                                         Street Address              City  \\\n",
       "0                                     Av. Meritxell, 96  Andorra la Vella   \n",
       "1                                  1 Street 69, Al Jarf             Ajman   \n",
       "2                          Sheikh Khalifa Bin Zayed St.             Ajman   \n",
       "3                                       Al Salam Street         Abu Dhabi   \n",
       "4                       Khaldiya Area, Abu Dhabi Island         Abu Dhabi   \n",
       "...                                                 ...               ...   \n",
       "1996  Av. José Pedro Alessandri 3177,, Local FC-205,...        Concepcion   \n",
       "1997                    Av. Barros Arana 1068, Local 12        Concepcion   \n",
       "1998          Los Carrera Poniente N° 301, Local BE-102        Concepcion   \n",
       "1999    Jose Bernardo Cuevas 405, Local 1070,, Rancagua          Rancagua   \n",
       "2000                              Pedro de Valdivia 801        Concepcion   \n",
       "\n",
       "     State/Province Country Postcode Phone Number                    Timezone  \\\n",
       "0                 7      AD    AD500    376818720     GMT+1:00 Europe/Andorra   \n",
       "1                AJ      AE      NaN          NaN        GMT+04:00 Asia/Dubai   \n",
       "2                AJ      AE      NaN          NaN        GMT+04:00 Asia/Dubai   \n",
       "3                AZ      AE      NaN          NaN        GMT+04:00 Asia/Dubai   \n",
       "4                AZ      AE      NaN          NaN        GMT+04:00 Asia/Dubai   \n",
       "...             ...     ...      ...          ...                         ...   \n",
       "1996             BI      CL  4260000          NaN  GMT-04:00 America/Santiago   \n",
       "1997             BI      CL      NaN          NaN  GMT-04:00 America/Santiago   \n",
       "1998             BI      CL      NaN          NaN  GMT-04:00 America/Santiago   \n",
       "1999             LI      CL      NaN          NaN  GMT-04:00 America/Santiago   \n",
       "2000             RM      CL      NaN          NaN  GMT-04:00 America/Santiago   \n",
       "\n",
       "      Longitude  Latitude  \n",
       "0          1.53     42.51  \n",
       "1         55.47     25.42  \n",
       "2         55.47     25.39  \n",
       "3         54.38     24.48  \n",
       "4         54.54     24.51  \n",
       "...         ...       ...  \n",
       "1996     -73.07    -36.79  \n",
       "1997     -73.04    -36.82  \n",
       "1998     -73.06    -36.83  \n",
       "1999     -70.74    -34.17  \n",
       "2000     -73.05    -36.84  \n",
       "\n",
       "[2001 rows x 13 columns]"
      ]
     },
     "execution_count": 22,
     "metadata": {},
     "output_type": "execute_result"
    }
   ],
   "source": [
    "df"
   ]
  },
  {
   "cell_type": "code",
   "execution_count": 23,
   "metadata": {},
   "outputs": [
    {
     "data": {
      "text/plain": [
       "Brand              object\n",
       "Store Number       object\n",
       "Store Name         object\n",
       "Ownership Type     object\n",
       "Street Address     object\n",
       "City               object\n",
       "State/Province     object\n",
       "Country            object\n",
       "Postcode           object\n",
       "Phone Number       object\n",
       "Timezone           object\n",
       "Longitude         float64\n",
       "Latitude          float64\n",
       "dtype: object"
      ]
     },
     "execution_count": 23,
     "metadata": {},
     "output_type": "execute_result"
    }
   ],
   "source": [
    "df.dtypes"
   ]
  },
  {
   "cell_type": "markdown",
   "metadata": {},
   "source": [
    "### -Masukkan informasi di atas dalam dictionary dengan key sesuai nama informasinya. Tampilkan isi dari dictionary tersebut sebagus mungkin."
   ]
  },
  {
   "cell_type": "code",
   "execution_count": 24,
   "metadata": {},
   "outputs": [
    {
     "data": {
      "text/plain": [
       "total record                                                            2001\n",
       "Nama Attribute yang ada    Index(['Brand', 'Store Number', 'Store Name', ...\n",
       "Jumlah Objek                                                              11\n",
       "Jumlah Angka                                                               2\n",
       "Jumlah NULL                                                                2\n",
       "dtype: object"
      ]
     },
     "execution_count": 24,
     "metadata": {},
     "output_type": "execute_result"
    }
   ],
   "source": [
    "totalRecord = len(df)\n",
    "namaAttribute = df.columns\n",
    "jumlahObjek = len(df.select_dtypes(include=['object']).columns)\n",
    "jumlahAngka = len(df.select_dtypes(include=['int64', 'float64']).columns)\n",
    "jumlahNULL = len(df.columns[df.isna().sum() > 0])\n",
    "\n",
    "dictionary_no1 = {\n",
    "    \"total record\": totalRecord,\n",
    "    \"Nama Attribute yang ada\": namaAttribute,\n",
    "    \"Jumlah Objek\": jumlahObjek,\n",
    "    \"Jumlah Angka\": jumlahAngka,\n",
    "    \"Jumlah NULL\": jumlahNULL,\n",
    "}\n",
    "\n",
    "pd.Series(dictionary_no1)"
   ]
  },
  {
   "cell_type": "markdown",
   "metadata": {},
   "source": [
    "### -Tampilkan rata-rata, standar deviasi, nilai minimum, nilai maksimum, Q1, Q2, dan Q3 dari attribute bertipe angka."
   ]
  },
  {
   "cell_type": "markdown",
   "metadata": {},
   "source": [
    "### Tampilkan Nilai rata-rata dengan fungsi mean()"
   ]
  },
  {
   "cell_type": "code",
   "execution_count": 25,
   "metadata": {},
   "outputs": [
    {
     "data": {
      "text/plain": [
       "Longitude   -71.722139\n",
       "Latitude     36.203258\n",
       "dtype: float64"
      ]
     },
     "execution_count": 25,
     "metadata": {},
     "output_type": "execute_result"
    }
   ],
   "source": [
    "df.select_dtypes(include=['int64', 'float64']).mean()"
   ]
  },
  {
   "cell_type": "markdown",
   "metadata": {},
   "source": [
    "### Tampilkan Nilai rata-rata dengan fungsi min()"
   ]
  },
  {
   "cell_type": "code",
   "execution_count": 26,
   "metadata": {},
   "outputs": [
    {
     "data": {
      "text/plain": [
       "Longitude   -135.07\n",
       "Latitude     -37.82\n",
       "dtype: float64"
      ]
     },
     "execution_count": 26,
     "metadata": {},
     "output_type": "execute_result"
    }
   ],
   "source": [
    "df.select_dtypes(include=['int64', 'float64']).min()"
   ]
  },
  {
   "cell_type": "markdown",
   "metadata": {},
   "source": [
    "### Tampilkan Nilai rata-rata dengan fungsi max()"
   ]
  },
  {
   "cell_type": "code",
   "execution_count": 27,
   "metadata": {},
   "outputs": [
    {
     "data": {
      "text/plain": [
       "Longitude    153.43\n",
       "Latitude      60.73\n",
       "dtype: float64"
      ]
     },
     "execution_count": 27,
     "metadata": {},
     "output_type": "execute_result"
    }
   ],
   "source": [
    "df.select_dtypes(include=['int64', 'float64']).max()"
   ]
  },
  {
   "cell_type": "markdown",
   "metadata": {},
   "source": [
    "### Tampilkan Nilai Q1, Q2, dan Q3 dengan fungsi quantile()"
   ]
  },
  {
   "cell_type": "code",
   "execution_count": 41,
   "metadata": {},
   "outputs": [
    {
     "data": {
      "text/html": [
       "<div>\n",
       "<style scoped>\n",
       "    .dataframe tbody tr th:only-of-type {\n",
       "        vertical-align: middle;\n",
       "    }\n",
       "\n",
       "    .dataframe tbody tr th {\n",
       "        vertical-align: top;\n",
       "    }\n",
       "\n",
       "    .dataframe thead th {\n",
       "        text-align: right;\n",
       "    }\n",
       "</style>\n",
       "<table border=\"1\" class=\"dataframe\">\n",
       "  <thead>\n",
       "    <tr style=\"text-align: right;\">\n",
       "      <th></th>\n",
       "      <th>Longitude</th>\n",
       "      <th>Latitude</th>\n",
       "    </tr>\n",
       "  </thead>\n",
       "  <tbody>\n",
       "    <tr>\n",
       "      <th>0.2</th>\n",
       "      <td>-119.0</td>\n",
       "      <td>25.53</td>\n",
       "    </tr>\n",
       "    <tr>\n",
       "      <th>0.4</th>\n",
       "      <td>-83.0</td>\n",
       "      <td>43.77</td>\n",
       "    </tr>\n",
       "    <tr>\n",
       "      <th>0.8</th>\n",
       "      <td>-49.0</td>\n",
       "      <td>49.89</td>\n",
       "    </tr>\n",
       "  </tbody>\n",
       "</table>\n",
       "</div>"
      ],
      "text/plain": [
       "     Longitude  Latitude\n",
       "0.2     -119.0     25.53\n",
       "0.4      -83.0     43.77\n",
       "0.8      -49.0     49.89"
      ]
     },
     "execution_count": 41,
     "metadata": {},
     "output_type": "execute_result"
    }
   ],
   "source": [
    "df.select_dtypes(include=['int64', 'float64']).quantile([0.20,0.4,0.80])"
   ]
  },
  {
   "cell_type": "markdown",
   "metadata": {},
   "source": [
    "### -Tampilkan nilai korelasi attribute bertipe angka."
   ]
  },
  {
   "cell_type": "code",
   "execution_count": 30,
   "metadata": {},
   "outputs": [
    {
     "data": {
      "text/html": [
       "<div>\n",
       "<style scoped>\n",
       "    .dataframe tbody tr th:only-of-type {\n",
       "        vertical-align: middle;\n",
       "    }\n",
       "\n",
       "    .dataframe tbody tr th {\n",
       "        vertical-align: top;\n",
       "    }\n",
       "\n",
       "    .dataframe thead th {\n",
       "        text-align: right;\n",
       "    }\n",
       "</style>\n",
       "<table border=\"1\" class=\"dataframe\">\n",
       "  <thead>\n",
       "    <tr style=\"text-align: right;\">\n",
       "      <th></th>\n",
       "      <th>Longitude</th>\n",
       "      <th>Latitude</th>\n",
       "    </tr>\n",
       "  </thead>\n",
       "  <tbody>\n",
       "    <tr>\n",
       "      <th>Longitude</th>\n",
       "      <td>1.000000</td>\n",
       "      <td>-0.446118</td>\n",
       "    </tr>\n",
       "    <tr>\n",
       "      <th>Latitude</th>\n",
       "      <td>-0.446118</td>\n",
       "      <td>1.000000</td>\n",
       "    </tr>\n",
       "  </tbody>\n",
       "</table>\n",
       "</div>"
      ],
      "text/plain": [
       "           Longitude  Latitude\n",
       "Longitude   1.000000 -0.446118\n",
       "Latitude   -0.446118  1.000000"
      ]
     },
     "execution_count": 30,
     "metadata": {},
     "output_type": "execute_result"
    }
   ],
   "source": [
    "df.select_dtypes(include=['int64', 'float64']).corr()"
   ]
  },
  {
   "cell_type": "markdown",
   "metadata": {},
   "source": [
    "### -Rubah nilai salah satu attribute bertipe angka menjadi dari desimal menjadi bilangan bulat)."
   ]
  },
  {
   "cell_type": "code",
   "execution_count": 32,
   "metadata": {},
   "outputs": [
    {
     "data": {
      "text/plain": [
       "Brand              object\n",
       "Store Number       object\n",
       "Store Name         object\n",
       "Ownership Type     object\n",
       "Street Address     object\n",
       "City               object\n",
       "State/Province     object\n",
       "Country            object\n",
       "Postcode           object\n",
       "Phone Number       object\n",
       "Timezone           object\n",
       "Longitude         float64\n",
       "Latitude          float64\n",
       "dtype: object"
      ]
     },
     "execution_count": 32,
     "metadata": {},
     "output_type": "execute_result"
    }
   ],
   "source": [
    "df.dtypes"
   ]
  },
  {
   "cell_type": "code",
   "execution_count": 33,
   "metadata": {},
   "outputs": [
    {
     "data": {
      "text/plain": [
       "Brand              object\n",
       "Store Number       object\n",
       "Store Name         object\n",
       "Ownership Type     object\n",
       "Street Address     object\n",
       "City               object\n",
       "State/Province     object\n",
       "Country            object\n",
       "Postcode           object\n",
       "Phone Number       object\n",
       "Timezone           object\n",
       "Longitude           int64\n",
       "Latitude          float64\n",
       "dtype: object"
      ]
     },
     "execution_count": 33,
     "metadata": {},
     "output_type": "execute_result"
    }
   ],
   "source": [
    "df[\"Longitude\"] = df[\"Longitude\"].astype(\"int64\")\n",
    "df.dtypes\n"
   ]
  },
  {
   "cell_type": "markdown",
   "metadata": {},
   "source": [
    "### -Tampilkan 10 record pertama dari attribute bertipe angka."
   ]
  },
  {
   "cell_type": "code",
   "execution_count": 34,
   "metadata": {},
   "outputs": [
    {
     "data": {
      "text/html": [
       "<div>\n",
       "<style scoped>\n",
       "    .dataframe tbody tr th:only-of-type {\n",
       "        vertical-align: middle;\n",
       "    }\n",
       "\n",
       "    .dataframe tbody tr th {\n",
       "        vertical-align: top;\n",
       "    }\n",
       "\n",
       "    .dataframe thead th {\n",
       "        text-align: right;\n",
       "    }\n",
       "</style>\n",
       "<table border=\"1\" class=\"dataframe\">\n",
       "  <thead>\n",
       "    <tr style=\"text-align: right;\">\n",
       "      <th></th>\n",
       "      <th>Longitude</th>\n",
       "      <th>Latitude</th>\n",
       "    </tr>\n",
       "  </thead>\n",
       "  <tbody>\n",
       "    <tr>\n",
       "      <th>0</th>\n",
       "      <td>1</td>\n",
       "      <td>42.51</td>\n",
       "    </tr>\n",
       "    <tr>\n",
       "      <th>1</th>\n",
       "      <td>55</td>\n",
       "      <td>25.42</td>\n",
       "    </tr>\n",
       "    <tr>\n",
       "      <th>2</th>\n",
       "      <td>55</td>\n",
       "      <td>25.39</td>\n",
       "    </tr>\n",
       "    <tr>\n",
       "      <th>3</th>\n",
       "      <td>54</td>\n",
       "      <td>24.48</td>\n",
       "    </tr>\n",
       "    <tr>\n",
       "      <th>4</th>\n",
       "      <td>54</td>\n",
       "      <td>24.51</td>\n",
       "    </tr>\n",
       "    <tr>\n",
       "      <th>5</th>\n",
       "      <td>54</td>\n",
       "      <td>24.40</td>\n",
       "    </tr>\n",
       "    <tr>\n",
       "      <th>6</th>\n",
       "      <td>54</td>\n",
       "      <td>24.40</td>\n",
       "    </tr>\n",
       "    <tr>\n",
       "      <th>7</th>\n",
       "      <td>54</td>\n",
       "      <td>24.46</td>\n",
       "    </tr>\n",
       "    <tr>\n",
       "      <th>8</th>\n",
       "      <td>55</td>\n",
       "      <td>24.19</td>\n",
       "    </tr>\n",
       "    <tr>\n",
       "      <th>9</th>\n",
       "      <td>54</td>\n",
       "      <td>24.48</td>\n",
       "    </tr>\n",
       "  </tbody>\n",
       "</table>\n",
       "</div>"
      ],
      "text/plain": [
       "   Longitude  Latitude\n",
       "0          1     42.51\n",
       "1         55     25.42\n",
       "2         55     25.39\n",
       "3         54     24.48\n",
       "4         54     24.51\n",
       "5         54     24.40\n",
       "6         54     24.40\n",
       "7         54     24.46\n",
       "8         55     24.19\n",
       "9         54     24.48"
      ]
     },
     "execution_count": 34,
     "metadata": {},
     "output_type": "execute_result"
    }
   ],
   "source": [
    "df.select_dtypes(include=['int64', 'float64']).head(10)"
   ]
  },
  {
   "cell_type": "markdown",
   "metadata": {},
   "source": [
    "### -Simpan dataset dengan attribute bertipe angka ke dalam file CSV"
   ]
  },
  {
   "cell_type": "code",
   "execution_count": 35,
   "metadata": {},
   "outputs": [],
   "source": [
    "df.select_dtypes(include=['int64', 'float64']).to_csv(\"Starbucks_Angka_Locations_Worldwide.csv\", index=False)"
   ]
  }
 ],
 "metadata": {
  "kernelspec": {
   "display_name": "Python 3 (ipykernel)",
   "language": "python",
   "name": "python3"
  },
  "language_info": {
   "codemirror_mode": {
    "name": "ipython",
    "version": 3
   },
   "file_extension": ".py",
   "mimetype": "text/x-python",
   "name": "python",
   "nbconvert_exporter": "python",
   "pygments_lexer": "ipython3",
   "version": "3.10.7"
  },
  "vscode": {
   "interpreter": {
    "hash": "732cc6cbfc5b39190a0bebc9fc045830b80fea9bbdf5357c8a13e3d604bac2e3"
   }
  }
 },
 "nbformat": 4,
 "nbformat_minor": 4
}
