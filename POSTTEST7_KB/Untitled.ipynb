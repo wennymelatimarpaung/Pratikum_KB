{
 "cells": [
  {
   "cell_type": "code",
   "execution_count": 1,
   "id": "69b95a84-34df-4872-a712-467c9f5a4ae9",
   "metadata": {},
   "outputs": [],
   "source": [
    "import numpy as np\n",
    "import tensorflow as tf"
   ]
  },
  {
   "cell_type": "markdown",
   "id": "97544484-e20a-48cf-a700-cb4b561fe9f2",
   "metadata": {},
   "source": [
    "### Membuat random tensor flow dengan shape 5:5"
   ]
  },
  {
   "cell_type": "code",
   "execution_count": 2,
   "id": "8758cedd-a9bb-4849-9c39-f016a0d4bfc8",
   "metadata": {},
   "outputs": [
    {
     "data": {
      "text/plain": [
       "<tf.Tensor: shape=(5, 5), dtype=float32, numpy=\n",
       "array([[-0.8113182 ,  1.4845988 ,  0.06532937, -2.4427042 ,  0.0992484 ],\n",
       "       [ 0.5912243 ,  0.59282297, -2.1229296 , -0.72289723, -0.05627038],\n",
       "       [ 0.6435448 , -0.26432407,  1.8566332 ,  0.5678417 , -0.3828359 ],\n",
       "       [-1.4853433 ,  1.2617711 , -0.02530608, -0.2646297 ,  1.5328138 ],\n",
       "       [-1.7429771 , -0.43789294, -0.56601   ,  0.32066926,  1.132831  ]],\n",
       "      dtype=float32)>"
      ]
     },
     "execution_count": 2,
     "metadata": {},
     "output_type": "execute_result"
    }
   ],
   "source": [
    "random_tensor = tf.random.normal([5,5], mean=0, stddev=1, seed=1)\n",
    "random_tensor"
   ]
  },
  {
   "cell_type": "markdown",
   "id": "72adf705-6960-4289-bf80-02d60b4d24f0",
   "metadata": {},
   "source": [
    "### Membuat prime tensor list bilangan prima dengan shape 5:5"
   ]
  },
  {
   "cell_type": "code",
   "execution_count": 3,
   "id": "ec86fbd7-4a8e-42d9-af64-06cad842262c",
   "metadata": {},
   "outputs": [
    {
     "data": {
      "text/plain": [
       "<tf.Tensor: shape=(5, 5), dtype=float32, numpy=\n",
       "array([[  2.,   3.,   5.,   7.,  11.],\n",
       "       [ 13.,  17.,  19.,  23.,  29.],\n",
       "       [ 31.,  37.,  41.,  43.,  47.],\n",
       "       [ 53.,  59.,  61.,  71.,  73.],\n",
       "       [ 79.,  83.,  89.,  97., 101.]], dtype=float32)>"
      ]
     },
     "execution_count": 3,
     "metadata": {},
     "output_type": "execute_result"
    }
   ],
   "source": [
    "prime_tensor = tf.constant([2, 3, 5, 7, 11, 13, 17, 19, 23, 29, 31, 37, 41, 43, 47, 53, 59, 61, 71, 73, 79, 83, 89, 97, 101], \n",
    "shape=[5, 5], dtype=tf.float32)\n",
    "prime_tensor"
   ]
  },
  {
   "cell_type": "markdown",
   "id": "1dc51d7a-9477-4c3d-ac0d-4c9d09e1bf58",
   "metadata": {},
   "source": [
    "### Aritmatika penjumlahan"
   ]
  },
  {
   "cell_type": "code",
   "execution_count": 4,
   "id": "29377835-c376-4688-911d-4f4fd1be9c3b",
   "metadata": {},
   "outputs": [
    {
     "name": "stdout",
     "output_type": "stream",
     "text": [
      "tf.Tensor(\n",
      "[[  1.1886818   4.4845986   5.0653296   4.557296   11.099248 ]\n",
      " [ 13.591225   17.592823   16.877071   22.277103   28.94373  ]\n",
      " [ 31.643545   36.735676   42.856632   43.56784    46.617165 ]\n",
      " [ 51.514656   60.261772   60.974693   70.73537    74.532814 ]\n",
      " [ 77.25702    82.5621     88.43399    97.32067   102.13283  ]], shape=(5, 5), dtype=float32)\n"
     ]
    }
   ],
   "source": [
    "print(tf.add(random_tensor, prime_tensor))"
   ]
  },
  {
   "cell_type": "markdown",
   "id": "338cf40b-a73a-4feb-9ddf-8d0ee80fc54c",
   "metadata": {},
   "source": [
    "### Aritmatika perkalian"
   ]
  },
  {
   "cell_type": "code",
   "execution_count": 5,
   "id": "d9c9c554-b709-4aca-b4e6-a52462c51557",
   "metadata": {},
   "outputs": [
    {
     "name": "stdout",
     "output_type": "stream",
     "text": [
      "tf.Tensor(\n",
      "[[  -1.6226364     4.4537964     0.32664686  -17.09893       1.0917324 ]\n",
      " [   7.685916     10.077991    -40.335663    -16.626637     -1.6318411 ]\n",
      " [  19.949888     -9.77999      76.12196      24.417194    -17.993286  ]\n",
      " [ -78.7232       74.444496     -1.5436709   -18.788708    111.89541   ]\n",
      " [-137.69519     -36.345116    -50.37489      31.10492     114.41593   ]], shape=(5, 5), dtype=float32)\n"
     ]
    }
   ],
   "source": [
    "\n",
    "print(tf.multiply(random_tensor, prime_tensor))"
   ]
  },
  {
   "cell_type": "markdown",
   "id": "8c6560ec-0f4e-4bac-a459-d141bfff4858",
   "metadata": {},
   "source": [
    "### Aritmatika pangkat"
   ]
  },
  {
   "cell_type": "code",
   "execution_count": 6,
   "id": "b7c5c265-89c2-4008-adf9-bec06c115005",
   "metadata": {},
   "outputs": [
    {
     "name": "stdout",
     "output_type": "stream",
     "text": [
      "tf.Tensor(\n",
      "[[ 6.58237278e-01  3.27210546e+00  1.18998764e-06 -5.18914917e+02\n",
      "   9.20362137e-12]\n",
      " [ 1.07839960e-03  1.37951167e-04 -1.62845650e+06 -5.73800469e-04\n",
      "  -5.72948387e-37]\n",
      " [ 1.16397109e-06 -4.15966456e-22  1.04176673e+11  2.70254808e-11\n",
      "  -2.52112615e-20]\n",
      " [-1.27886054e+09  9.07514625e+05 -0.00000000e+00 -0.00000000e+00\n",
      "   3.47317018e+13]\n",
      " [-1.15356923e+19 -1.71214119e-30 -1.00310215e-22  0.00000000e+00\n",
      "   2.95581156e+05]], shape=(5, 5), dtype=float32)\n"
     ]
    }
   ],
   "source": [
    "\n",
    "print(tf.pow(random_tensor, prime_tensor))"
   ]
  },
  {
   "cell_type": "markdown",
   "id": "48391f72-a921-47e6-be0c-61c284db4edd",
   "metadata": {},
   "source": [
    "### Aritmatika pembagian"
   ]
  },
  {
   "cell_type": "code",
   "execution_count": 7,
   "id": "8bfbb5fa-7aa4-4d73-8f69-9335f705a0db",
   "metadata": {},
   "outputs": [
    {
     "name": "stdout",
     "output_type": "stream",
     "text": [
      "tf.Tensor(\n",
      "[[-4.0565911e-01  4.9486625e-01  1.3065875e-02 -3.4895775e-01\n",
      "   9.0225823e-03]\n",
      " [ 4.5478795e-02  3.4871940e-02 -1.1173314e-01 -3.1430315e-02\n",
      "  -1.9403580e-03]\n",
      " [ 2.0759510e-02 -7.1438937e-03  4.5283735e-02  1.3205621e-02\n",
      "  -8.1454450e-03]\n",
      " [-2.8025346e-02  2.1385951e-02 -4.1485377e-04 -3.7271788e-03\n",
      "   2.0997450e-02]\n",
      " [-2.2063002e-02 -5.2758185e-03 -6.3596629e-03  3.3058687e-03\n",
      "   1.1216149e-02]], shape=(5, 5), dtype=float32)\n"
     ]
    }
   ],
   "source": [
    "print(tf.divide(random_tensor, prime_tensor))"
   ]
  },
  {
   "cell_type": "markdown",
   "id": "39a09f23-755e-4c9d-86fd-2a3821f7f127",
   "metadata": {},
   "source": [
    "### Aritmatika logaritma"
   ]
  },
  {
   "cell_type": "code",
   "execution_count": 8,
   "id": "4ffc953b-bf1b-4d3f-ae49-feef8201292d",
   "metadata": {},
   "outputs": [
    {
     "name": "stdout",
     "output_type": "stream",
     "text": [
      "tf.Tensor(\n",
      "[[        nan  0.39514455 -2.7283134          nan -2.3101294 ]\n",
      " [-0.5255598  -0.52285945         nan         nan         nan]\n",
      " [-0.44076362         nan  0.61876476 -0.5659126          nan]\n",
      " [        nan  0.23251635         nan         nan  0.42710513]\n",
      " [        nan         nan         nan -1.1373451   0.12471979]], shape=(5, 5), dtype=float32)\n"
     ]
    }
   ],
   "source": [
    "\n",
    "print(tf.math.log(random_tensor, prime_tensor))"
   ]
  },
  {
   "cell_type": "markdown",
   "id": "5d0dcbad-23ea-4056-9673-7dc4cf079790",
   "metadata": {},
   "source": [
    "### Nilai maks random tensor"
   ]
  },
  {
   "cell_type": "code",
   "execution_count": 9,
   "id": "e3742cfd-af57-457b-896c-aa1c26dfa4b7",
   "metadata": {},
   "outputs": [
    {
     "name": "stdout",
     "output_type": "stream",
     "text": [
      "Nilai random_tensor [[-0.9535285  -0.6628795   2.6050966   0.97283906 -0.61676574]\n",
      " [-0.30219504 -1.3578846   1.2704016  -0.7363761   1.1506319 ]\n",
      " [-0.46638396 -0.91073775  0.21086329  0.22197883  1.2660271 ]\n",
      " [ 1.4899206  -0.9719209   0.16760662  0.08416482  0.8064228 ]\n",
      " [ 1.4544802  -0.27840063  1.4453667   1.0109597  -0.494657  ]]\n",
      "Nilai maksimal berdasarkan kolom: [3 4 0 4 2]\n",
      "Nilai maksimal berdasarkan baris: [2 2 4 0 0]\n"
     ]
    }
   ],
   "source": [
    "argmax_random = tf.random.normal([5,5])\n",
    "print(\"Nilai random_tensor\",argmax_random.numpy())\n",
    "\n",
    "max_random_1 = tf.argmax(argmax_random, axis = 0)\n",
    "max_random_2 = tf.argmax(argmax_random, axis = 1)\n",
    "\n",
    "print(\"Nilai maksimal berdasarkan kolom:\",max_random_1.numpy())\n",
    "print(\"Nilai maksimal berdasarkan baris:\",max_random_2.numpy())"
   ]
  },
  {
   "cell_type": "markdown",
   "id": "fa5875f7-a31a-4656-937d-07e197a994c6",
   "metadata": {},
   "source": [
    "### Nilai min random tensor"
   ]
  },
  {
   "cell_type": "code",
   "execution_count": 10,
   "id": "fa735e39-f187-4622-939a-bafe99b24a3a",
   "metadata": {},
   "outputs": [
    {
     "name": "stdout",
     "output_type": "stream",
     "text": [
      "Nilai random_tensor [[-0.9535285  -0.6628795   2.6050966   0.97283906 -0.61676574]\n",
      " [-0.30219504 -1.3578846   1.2704016  -0.7363761   1.1506319 ]\n",
      " [-0.46638396 -0.91073775  0.21086329  0.22197883  1.2660271 ]\n",
      " [ 1.4899206  -0.9719209   0.16760662  0.08416482  0.8064228 ]\n",
      " [ 1.4544802  -0.27840063  1.4453667   1.0109597  -0.494657  ]]\n",
      "Nilai minimum berdasarkan kolom: [1 0 3 3 1]\n",
      "Nilai minimum berdasarkan baris: [0 4 0 3 3]\n"
     ]
    }
   ],
   "source": [
    "argmin_random = tf.random.normal([5,5])\n",
    "print(\"Nilai random_tensor\",argmax_random.numpy())\n",
    "\n",
    "min_random_1 = tf.argmin(argmin_random, axis = 0)\n",
    "min_random_2 = tf.argmin(argmin_random, axis = 1)\n",
    "\n",
    "print(\"Nilai minimum berdasarkan kolom:\",min_random_1.numpy())\n",
    "print(\"Nilai minimum berdasarkan baris:\",min_random_2.numpy())"
   ]
  },
  {
   "cell_type": "markdown",
   "id": "f1ce2a51-4306-4550-8add-37e5f8ae7384",
   "metadata": {},
   "source": [
    "### Menggabungkan random_tensor dan prime_tensor"
   ]
  },
  {
   "cell_type": "code",
   "execution_count": 11,
   "id": "8a2b3d85-85d5-4ba7-aa07-a8db384142cf",
   "metadata": {},
   "outputs": [
    {
     "name": "stdout",
     "output_type": "stream",
     "text": [
      "Original size data: (5, 5) (5, 5)\n",
      "Penggabungan size data: (10, 5)\n"
     ]
    }
   ],
   "source": [
    "random_tensor = tf.random.normal([5,5], mean=0, stddev=1, seed=1)\n",
    "prime_tensor = tf.constant([2, 3, 5, 7, 11, 13, 17, 19, 23, 29, 31, 37, 41, 43, 47, 53, 59, 61, 71, 73, 79, 83, 89, 97, 101], \n",
    "shape=[5, 5], dtype=tf.float32)\n",
    "\n",
    "print(\"Original size data:\",random_tensor.shape,prime_tensor.shape)\n",
    "concated_tensor = tf.concat([random_tensor,prime_tensor],axis=0)\n",
    "print(\"Penggabungan size data:\",concated_tensor.shape)"
   ]
  },
  {
   "cell_type": "markdown",
   "id": "e31cd7a4-6297-4ea3-84e3-225792861273",
   "metadata": {},
   "source": [
    "### Sorting"
   ]
  },
  {
   "cell_type": "code",
   "execution_count": 12,
   "id": "259becb3-94ab-48e6-a4bb-ef2d4260bd91",
   "metadata": {},
   "outputs": [
    {
     "name": "stdout",
     "output_type": "stream",
     "text": [
      "Data random tensor [[-0.28433853  0.8922832   0.8983451   0.7163981   0.34969485]\n",
      " [-0.37960768  0.01531979  0.27423722 -2.214901   -0.08514621]\n",
      " [ 1.0113182   0.6616626   1.383323   -0.40465203  0.86142987]\n",
      " [-0.12589967 -1.418615    2.0295074   0.15304402  0.13658497]\n",
      " [-0.49787143  0.38847125 -0.4244715   0.46214256 -0.5444318 ]]\n",
      "Data prime tensor [[  2.   3.   5.   7.  11.]\n",
      " [ 13.  17.  19.  23.  29.]\n",
      " [ 31.  37.  41.  43.  47.]\n",
      " [ 53.  59.  61.  71.  73.]\n",
      " [ 79.  83.  89.  97. 101.]]\n",
      "Sorted random tensor by descending order\n",
      " [[ 0.8983451   0.8922832   0.7163981   0.34969485 -0.28433853]\n",
      " [ 0.27423722  0.01531979 -0.08514621 -0.37960768 -2.214901  ]\n",
      " [ 1.383323    1.0113182   0.86142987  0.6616626  -0.40465203]\n",
      " [ 2.0295074   0.15304402  0.13658497 -0.12589967 -1.418615  ]\n",
      " [ 0.46214256  0.38847125 -0.4244715  -0.49787143 -0.5444318 ]]\n",
      "Sorted prime tensor by descending order\n",
      " [[ 11.   7.   5.   3.   2.]\n",
      " [ 29.  23.  19.  17.  13.]\n",
      " [ 47.  43.  41.  37.  31.]\n",
      " [ 73.  71.  61.  59.  53.]\n",
      " [101.  97.  89.  83.  79.]]\n"
     ]
    }
   ],
   "source": [
    "random_tensor = tf.random.normal([5,5], mean=0, stddev=1, seed=1)\n",
    "print(\"Data random tensor\",random_tensor.numpy())\n",
    "prime_tensor = tf.constant([2, 3, 5, 7, 11, 13, 17, 19, 23, 29, 31, 37, 41, 43, 47, 53, 59, 61, 71, 73, 79, 83, 89, 97, 101], \n",
    "shape=[5, 5], dtype=tf.float32)\n",
    "print(\"Data prime tensor\",prime_tensor.numpy())\n",
    "\n",
    "sorted_random = tf.sort(random_tensor, direction = \"DESCENDING\")\n",
    "print(\"Sorted random tensor by descending order\\n\",sorted_random.numpy())\n",
    "sorted_prime = tf.sort(prime_tensor, direction = \"DESCENDING\")\n",
    "print(\"Sorted prime tensor by descending order\\n\",sorted_prime.numpy())"
   ]
  }
 ],
 "metadata": {
  "kernelspec": {
   "display_name": "Python 3 (ipykernel)",
   "language": "python",
   "name": "python3"
  },
  "language_info": {
   "codemirror_mode": {
    "name": "ipython",
    "version": 3
   },
   "file_extension": ".py",
   "mimetype": "text/x-python",
   "name": "python",
   "nbconvert_exporter": "python",
   "pygments_lexer": "ipython3",
   "version": "3.10.7"
  }
 },
 "nbformat": 4,
 "nbformat_minor": 5
}
